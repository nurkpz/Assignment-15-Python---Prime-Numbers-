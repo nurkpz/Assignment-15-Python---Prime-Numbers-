{
 "cells": [
  {
   "cell_type": "code",
   "execution_count": 1,
   "id": "d67a6346",
   "metadata": {},
   "outputs": [
    {
     "name": "stdout",
     "output_type": "stream",
     "text": [
      "Please enter a number : 20\n",
      "[2, 3, 5, 7, 11, 13, 17, 19]\n"
     ]
    }
   ],
   "source": [
    "n = int(input(\"Please enter a number : \"))\n",
    "prime_list =[]\n",
    "count = 0\n",
    "for i in range(n + 1) :\n",
    "    if i == 0 or i == 1 :\n",
    "        continue \n",
    "    else :\n",
    "        for j in range(2, int(i / 2) + 1) :\n",
    "            if i % j == 0 :\n",
    "                break \n",
    "        else :\n",
    "            prime_list.append(i)\n",
    "print(prime_list)\n",
    "    "
   ]
  },
  {
   "cell_type": "code",
   "execution_count": null,
   "id": "bc1f3405",
   "metadata": {},
   "outputs": [],
   "source": []
  }
 ],
 "metadata": {
  "kernelspec": {
   "display_name": "Python 3 (ipykernel)",
   "language": "python",
   "name": "python3"
  },
  "language_info": {
   "codemirror_mode": {
    "name": "ipython",
    "version": 3
   },
   "file_extension": ".py",
   "mimetype": "text/x-python",
   "name": "python",
   "nbconvert_exporter": "python",
   "pygments_lexer": "ipython3",
   "version": "3.9.12"
  }
 },
 "nbformat": 4,
 "nbformat_minor": 5
}
